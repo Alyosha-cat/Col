{
 "cells": [
  {
   "cell_type": "code",
   "execution_count": 1,
   "metadata": {},
   "outputs": [],
   "source": [
    "# use this to install benchpots in the colab env\n",
    "# !pip install benchpots"
   ]
  },
  {
   "cell_type": "code",
   "execution_count": 2,
   "metadata": {},
   "outputs": [],
   "source": [
    "import numpy as np\n",
    "from benchpots.datasets import preprocess_physionet2012"
   ]
  },
  {
   "cell_type": "code",
   "execution_count": 3,
   "metadata": {},
   "outputs": [
    {
     "name": "stderr",
     "output_type": "stream",
     "text": [
      "2024-10-25 16:29:49 [INFO]: You're using dataset physionet_2012, please cite it properly in your work. You can find its reference information at the below link: \n",
      "https://github.com/WenjieDu/TSDB/tree/main/dataset_profiles/physionet_2012\n",
      "2024-10-25 16:29:49 [INFO]: Dataset physionet_2012 has already been downloaded. Processing directly...\n",
      "2024-10-25 16:29:49 [INFO]: Dataset physionet_2012 has already been cached. Loading from cache directly...\n"
     ]
    },
    {
     "name": "stderr",
     "output_type": "stream",
     "text": [
      "2024-10-25 16:29:50 [INFO]: Loaded successfully!\n",
      "2024-10-25 16:29:59 [WARNING]: rate is 0, no missing values are artificially added.\n",
      "2024-10-25 16:29:59 [INFO]: Total sample number: 3997\n",
      "2024-10-25 16:29:59 [INFO]: Training set size: 2557 (63.97%)\n",
      "2024-10-25 16:29:59 [INFO]: Validation set size: 640 (16.01%)\n",
      "2024-10-25 16:29:59 [INFO]: Test set size: 800 (20.02%)\n",
      "2024-10-25 16:29:59 [INFO]: Number of steps: 48\n",
      "2024-10-25 16:29:59 [INFO]: Number of features: 36\n",
      "2024-10-25 16:29:59 [INFO]: Train set missing rate: 79.54%\n",
      "2024-10-25 16:29:59 [INFO]: Validating set missing rate: 79.67%\n",
      "2024-10-25 16:29:59 [INFO]: Test set missing rate: 79.67%\n"
     ]
    }
   ],
   "source": [
    "features=['ALP', \n",
    "          'ALT', \n",
    "          'AST', \n",
    "          'Albumin',\n",
    "          'BUN',\n",
    "          'Bilirubin',\n",
    "          'Cholesterol',\n",
    "          'Creatinine',\n",
    "          'FiO2',\n",
    "          'GCS',\n",
    "          'Glucose',\n",
    "          'HCO3',\n",
    "          'HCT',\n",
    "          'HR', \n",
    "          'K', \n",
    "          'Lactate', \n",
    "          'Mg', \n",
    "          'Na', \n",
    "          'PaCO2', \n",
    "          'PaO2', \n",
    "          'Platelets', \n",
    "          'RespRate', \n",
    "          'SaO2', \n",
    "          'Temp', \n",
    "          'TroponinI', \n",
    "          'TroponinT', \n",
    "          'Urine', \n",
    "          'WBC', \n",
    "          'Weight', \n",
    "          'pH',\n",
    "\n",
    "          'NISysABP',\n",
    "          'SysABP',\n",
    "          'NIMAP',\n",
    "          'MAP',\n",
    "          'NIDiasABP',\n",
    "          'DiasABP',\n",
    "          ]\n",
    "data = preprocess_physionet2012('set-a', rate=0, features=features)\n",
    "\n",
    "for key in ['train_X', 'val_X', 'test_X']:\n",
    "    a, b = 35, 34\n",
    "    idx = np.array(np.isnan(data[key][:, :,a]))\n",
    "    data[key][:, :, a][idx] = data[key][:, :, b][idx]\n",
    "    a, b = 33, 32\n",
    "    idx = np.array(np.isnan(data[key][:, :,a]))\n",
    "    data[key][:, :, a][idx] = data[key][:, :, b][idx]\n",
    "    a, b = 31, 30\n",
    "    idx = np.array(np.isnan(data[key][:, :,a]))\n",
    "    data[key][:, :, a][idx] = data[key][:, :, b][idx]\n",
    "    data[key] = data[key][:, :, [u for u in range(36) if u not in [30, 32, 34]]]"
   ]
  },
  {
   "cell_type": "code",
   "execution_count": 4,
   "metadata": {},
   "outputs": [],
   "source": [
    "for key in ['train_X', 'val_X', 'test_X']:\n",
    "    for x, sample in enumerate(data[key]):\n",
    "        for y in range(sample.shape[-1]):\n",
    "            replace = 0\n",
    "            for z, k in enumerate(sample[:, y]):\n",
    "                if np.isnan(k):\n",
    "                    data[key][x, z, y] = replace\n",
    "                else:\n",
    "                    replace = k"
   ]
  },
  {
   "cell_type": "code",
   "execution_count": 5,
   "metadata": {},
   "outputs": [],
   "source": [
    "import torch\n",
    "from torch import nn\n",
    "import torch.nn.functional as F\n",
    "import torch.optim as optim\n",
    "from torch.utils.data import DataLoader, Subset, TensorDataset\n",
    "from sklearn.metrics import roc_auc_score\n",
    "\n",
    "class gruSimple(nn.Module):\n",
    "    def __init__(\n",
    "        self,\n",
    "        n_features = 33,\n",
    "        n_classes = 2,\n",
    "        rnn_hidden_size = 43,\n",
    "        num_layers = 1,\n",
    "    ):\n",
    "        super(gruSimple, self).__init__()\n",
    "        self.num_layers = num_layers\n",
    "        self.hidden_dim = rnn_hidden_size\n",
    "        self.gru = nn.GRU(n_features, rnn_hidden_size, num_layers, batch_first=True)\n",
    "        # Define the top regressor layer with batch normalization and dropout\n",
    "        self.fc = nn.Linear(rnn_hidden_size, n_classes)\n",
    "        self.batch_norm = nn.BatchNorm1d(n_classes)\n",
    "        self.dropout = nn.Dropout(0.5)\n",
    "    def forward(self, x):\n",
    "        # Initialize hidden state with zeros\n",
    "        h0 = torch.zeros(self.num_layers, x.size(0), self.hidden_dim).to(x.device)\n",
    "\n",
    "        # Forward propagate through GRU\n",
    "        out, _ = self.gru(x, h0)\n",
    "        # Get the last hidden state\n",
    "        last_hidden_state = out[:, -1, :]\n",
    "        out = self.fc(last_hidden_state)\n",
    "        out = self.batch_norm(out)\n",
    "        out = self.dropout(out)\n",
    "        out = F.softmax(out, dim=1)\n",
    "        return out"
   ]
  },
  {
   "cell_type": "code",
   "execution_count": 44,
   "metadata": {},
   "outputs": [],
   "source": [
    "# Early stopping parameters\n",
    "early_stopping_patience = 3  # Number of epochs to wait for improvement\n",
    "best_loss = float('inf')\n",
    "patience_counter = 0\n",
    "\n",
    "# Training function with early stopping\n",
    "def train(model, train_loader, val_loader, criterion, optimizer, num_epochs, device):\n",
    "    model.to(device)\n",
    "\n",
    "    global best_loss, patience_counter\n",
    "    model.train()  # Set the model to training mode\n",
    "    for epoch in range(num_epochs):\n",
    "        running_loss = 0.0\n",
    "        for _, (inputs, labels) in enumerate(train_loader):\n",
    "            inputs = inputs.to(device)\n",
    "            labels = labels.to(device)\n",
    "            # Zero the parameter gradients\n",
    "            optimizer.zero_grad()\n",
    "            \n",
    "            # Forward pass\n",
    "            outputs = model(torch.nan_to_num(inputs))\n",
    "\n",
    "            loss = criterion(outputs, labels)\n",
    "            \n",
    "            # Backward pass and optimize\n",
    "            loss.backward()\n",
    "            optimizer.step()\n",
    "            \n",
    "            running_loss += loss.item()\n",
    "\n",
    "        print(f'Epoch [{epoch+1}/{num_epochs}], Loss: {running_loss/10:.4f}')\n",
    "        running_loss = 0.0\n",
    "        \n",
    "        # Validation phase\n",
    "        model.eval()  # Set the model to evaluation mode\n",
    "        val_loss = 0.0\n",
    "        with torch.no_grad():\n",
    "            for inputs, labels in val_loader:\n",
    "                inputs = inputs.to(device)\n",
    "                labels = labels.to(device)\n",
    "                \n",
    "                outputs = model(torch.nan_to_num(inputs))\n",
    "                loss = criterion(outputs, labels)\n",
    "                val_loss += loss.item()\n",
    "        \n",
    "        val_loss /= len(val_loader)\n",
    "        print(f'Validation Loss after Epoch [{epoch+1}/{num_epochs}]: {val_loss:.4f}')\n",
    "        \n",
    "        # Early stopping check\n",
    "        if val_loss < best_loss:\n",
    "            best_loss = val_loss\n",
    "            patience_counter = 0\n",
    "        else:\n",
    "            patience_counter += 1\n",
    "            if patience_counter >= early_stopping_patience:\n",
    "                print(f'Early stopping at epoch {epoch+1}')\n",
    "                break\n",
    "        \n",
    "        model.train()  # Set back to training mode\n",
    "\n",
    "    print('Finished Training')\n",
    "\n",
    "def evaluate_model(val_loader, model, device):\n",
    "    model.to(device)\n",
    "    model.eval()\n",
    "    outputs = torch.tensor([]).to(device)\n",
    "    lab = torch.tensor([]).to(device)\n",
    "    with torch.no_grad():\n",
    "        for inputs, labels in val_loader:\n",
    "            inputs = inputs.to(device)\n",
    "            labels = labels.to(device)\n",
    "            output = model(torch.nan_to_num(inputs))\n",
    "            outputs = torch.concat([outputs, output])\n",
    "            lab = torch.concat([lab, labels])\n",
    "    return outputs, lab"
   ]
  },
  {
   "cell_type": "code",
   "execution_count": 32,
   "metadata": {},
   "outputs": [],
   "source": [
    "traindata = TensorDataset(torch.tensor(data['train_X'].astype(np.float32)), torch.tensor(data['train_y']))\n",
    "valdata = TensorDataset(torch.tensor(data['val_X'].astype(np.float32)), torch.tensor(data['val_y']))\n",
    "testdata = TensorDataset(torch.tensor(data['test_X'].astype(np.float32)), torch.tensor(data['test_y']))"
   ]
  },
  {
   "cell_type": "code",
   "execution_count": 33,
   "metadata": {},
   "outputs": [],
   "source": [
    "train_loader = DataLoader(traindata, batch_size=64)\n",
    "val_loader = DataLoader(valdata, batch_size=64)\n",
    "test_loader = DataLoader(testdata, batch_size=64)"
   ]
  },
  {
   "cell_type": "code",
   "execution_count": 40,
   "metadata": {},
   "outputs": [],
   "source": [
    "model = gruSimple(33, 2, 64)\n",
    "criterion = nn.CrossEntropyLoss()\n",
    "optimizer = optim.Adam(model.parameters(), lr=0.001)"
   ]
  },
  {
   "cell_type": "code",
   "execution_count": 41,
   "metadata": {},
   "outputs": [
    {
     "name": "stdout",
     "output_type": "stream",
     "text": [
      "cuda:0\n"
     ]
    }
   ],
   "source": [
    "device = torch.device(\"cuda:0\" if torch.cuda.is_available() else \"cpu\")\n",
    "print(device)"
   ]
  },
  {
   "cell_type": "code",
   "execution_count": 45,
   "metadata": {},
   "outputs": [
    {
     "name": "stdout",
     "output_type": "stream",
     "text": [
      "Epoch [1/50], Loss: 2.5049\n",
      "Validation Loss after Epoch [1/50]: 0.6003\n",
      "Epoch [2/50], Loss: 2.4446\n",
      "Validation Loss after Epoch [2/50]: 0.5890\n",
      "Epoch [3/50], Loss: 2.3881\n",
      "Validation Loss after Epoch [3/50]: 0.5746\n",
      "Epoch [4/50], Loss: 2.3240\n",
      "Validation Loss after Epoch [4/50]: 0.5609\n",
      "Epoch [5/50], Loss: 2.2784\n",
      "Validation Loss after Epoch [5/50]: 0.5473\n",
      "Epoch [6/50], Loss: 2.2839\n",
      "Validation Loss after Epoch [6/50]: 0.5591\n",
      "Epoch [7/50], Loss: 2.2619\n",
      "Validation Loss after Epoch [7/50]: 0.5417\n",
      "Epoch [8/50], Loss: 2.2425\n",
      "Validation Loss after Epoch [8/50]: 0.5356\n",
      "Epoch [9/50], Loss: 2.2588\n",
      "Validation Loss after Epoch [9/50]: 0.5296\n",
      "Epoch [10/50], Loss: 2.2196\n",
      "Validation Loss after Epoch [10/50]: 0.5299\n",
      "Epoch [11/50], Loss: 2.2060\n",
      "Validation Loss after Epoch [11/50]: 0.5261\n",
      "Epoch [12/50], Loss: 2.1950\n",
      "Validation Loss after Epoch [12/50]: 0.5182\n",
      "Epoch [13/50], Loss: 2.1644\n",
      "Validation Loss after Epoch [13/50]: 0.5131\n",
      "Epoch [14/50], Loss: 2.1688\n",
      "Validation Loss after Epoch [14/50]: 0.5050\n",
      "Epoch [15/50], Loss: 2.1409\n",
      "Validation Loss after Epoch [15/50]: 0.5016\n",
      "Epoch [16/50], Loss: 2.1292\n",
      "Validation Loss after Epoch [16/50]: 0.5003\n",
      "Epoch [17/50], Loss: 2.1326\n",
      "Validation Loss after Epoch [17/50]: 0.4993\n",
      "Epoch [18/50], Loss: 2.0994\n",
      "Validation Loss after Epoch [18/50]: 0.4916\n",
      "Epoch [19/50], Loss: 2.0864\n",
      "Validation Loss after Epoch [19/50]: 0.4911\n",
      "Epoch [20/50], Loss: 2.0955\n",
      "Validation Loss after Epoch [20/50]: 0.4930\n",
      "Epoch [21/50], Loss: 2.1014\n",
      "Validation Loss after Epoch [21/50]: 0.4886\n",
      "Epoch [22/50], Loss: 2.0845\n",
      "Validation Loss after Epoch [22/50]: 0.4863\n",
      "Epoch [23/50], Loss: 2.0723\n",
      "Validation Loss after Epoch [23/50]: 0.4859\n",
      "Epoch [24/50], Loss: 2.0644\n",
      "Validation Loss after Epoch [24/50]: 0.4814\n",
      "Epoch [25/50], Loss: 2.0643\n",
      "Validation Loss after Epoch [25/50]: 0.4860\n",
      "Epoch [26/50], Loss: 2.0411\n",
      "Validation Loss after Epoch [26/50]: 0.4834\n",
      "Epoch [27/50], Loss: 2.0142\n",
      "Validation Loss after Epoch [27/50]: 0.4853\n",
      "Early stopping at epoch 27\n",
      "Finished Training\n"
     ]
    }
   ],
   "source": [
    "# Train the model with early stopping\n",
    "num_epochs = 50\n",
    "train(model, train_loader, val_loader, criterion, optimizer, num_epochs, device)"
   ]
  },
  {
   "cell_type": "code",
   "execution_count": 46,
   "metadata": {},
   "outputs": [
    {
     "data": {
      "text/plain": [
       "0.7947214267968985"
      ]
     },
     "metadata": {},
     "output_type": "display_data"
    }
   ],
   "source": [
    "output, true = evaluate_model(test_loader, model, device)\n",
    "display(roc_auc_score(true.cpu(), output[:, 1].cpu()))"
   ]
  },
  {
   "cell_type": "code",
   "execution_count": null,
   "metadata": {},
   "outputs": [],
   "source": []
  }
 ],
 "metadata": {
  "kernelspec": {
   "display_name": "NDE",
   "language": "python",
   "name": "python3"
  },
  "language_info": {
   "codemirror_mode": {
    "name": "ipython",
    "version": 3
   },
   "file_extension": ".py",
   "mimetype": "text/x-python",
   "name": "python",
   "nbconvert_exporter": "python",
   "pygments_lexer": "ipython3",
   "version": "3.12.5"
  }
 },
 "nbformat": 4,
 "nbformat_minor": 2
}
