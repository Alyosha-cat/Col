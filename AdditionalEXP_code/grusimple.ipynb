{
 "cells": [
  {
   "cell_type": "code",
   "execution_count": 3,
   "metadata": {},
   "outputs": [
    {
     "name": "stdout",
     "output_type": "stream",
     "text": [
      "Requirement already satisfied: benchpots in /home/yongmin/anaconda3/envs/NDE/lib/python3.12/site-packages (0.3)\n",
      "Requirement already satisfied: h5py in /home/yongmin/anaconda3/envs/NDE/lib/python3.12/site-packages (from benchpots) (3.12.1)\n",
      "Requirement already satisfied: numpy in /home/yongmin/anaconda3/envs/NDE/lib/python3.12/site-packages (from benchpots) (1.26.4)\n",
      "Requirement already satisfied: pandas in /home/yongmin/anaconda3/envs/NDE/lib/python3.12/site-packages (from benchpots) (2.2.3)\n",
      "Requirement already satisfied: scikit-learn in /home/yongmin/anaconda3/envs/NDE/lib/python3.12/site-packages (from benchpots) (1.5.2)\n",
      "Requirement already satisfied: torch>=1.10 in /home/yongmin/anaconda3/envs/NDE/lib/python3.12/site-packages (from benchpots) (2.4.1+cu121)\n",
      "Requirement already satisfied: tsdb>=0.6.1 in /home/yongmin/anaconda3/envs/NDE/lib/python3.12/site-packages (from benchpots) (0.6.2)\n",
      "Requirement already satisfied: pygrinder>=0.6.2 in /home/yongmin/anaconda3/envs/NDE/lib/python3.12/site-packages (from benchpots) (0.6.4)\n",
      "Requirement already satisfied: filelock in /home/yongmin/anaconda3/envs/NDE/lib/python3.12/site-packages (from torch>=1.10->benchpots) (3.13.1)\n",
      "Requirement already satisfied: typing-extensions>=4.8.0 in /home/yongmin/anaconda3/envs/NDE/lib/python3.12/site-packages (from torch>=1.10->benchpots) (4.12.2)\n",
      "Requirement already satisfied: sympy in /home/yongmin/anaconda3/envs/NDE/lib/python3.12/site-packages (from torch>=1.10->benchpots) (1.12)\n",
      "Requirement already satisfied: networkx in /home/yongmin/anaconda3/envs/NDE/lib/python3.12/site-packages (from torch>=1.10->benchpots) (3.2.1)\n",
      "Requirement already satisfied: jinja2 in /home/yongmin/anaconda3/envs/NDE/lib/python3.12/site-packages (from torch>=1.10->benchpots) (3.1.3)\n",
      "Requirement already satisfied: fsspec in /home/yongmin/anaconda3/envs/NDE/lib/python3.12/site-packages (from torch>=1.10->benchpots) (2024.2.0)\n",
      "Requirement already satisfied: setuptools in /home/yongmin/anaconda3/envs/NDE/lib/python3.12/site-packages (from torch>=1.10->benchpots) (75.1.0)\n",
      "Requirement already satisfied: nvidia-cuda-nvrtc-cu12==12.1.105 in /home/yongmin/anaconda3/envs/NDE/lib/python3.12/site-packages (from torch>=1.10->benchpots) (12.1.105)\n",
      "Requirement already satisfied: nvidia-cuda-runtime-cu12==12.1.105 in /home/yongmin/anaconda3/envs/NDE/lib/python3.12/site-packages (from torch>=1.10->benchpots) (12.1.105)\n",
      "Requirement already satisfied: nvidia-cuda-cupti-cu12==12.1.105 in /home/yongmin/anaconda3/envs/NDE/lib/python3.12/site-packages (from torch>=1.10->benchpots) (12.1.105)\n",
      "Requirement already satisfied: nvidia-cudnn-cu12==9.1.0.70 in /home/yongmin/anaconda3/envs/NDE/lib/python3.12/site-packages (from torch>=1.10->benchpots) (9.1.0.70)\n",
      "Requirement already satisfied: nvidia-cublas-cu12==12.1.3.1 in /home/yongmin/anaconda3/envs/NDE/lib/python3.12/site-packages (from torch>=1.10->benchpots) (12.1.3.1)\n",
      "Requirement already satisfied: nvidia-cufft-cu12==11.0.2.54 in /home/yongmin/anaconda3/envs/NDE/lib/python3.12/site-packages (from torch>=1.10->benchpots) (11.0.2.54)\n",
      "Requirement already satisfied: nvidia-curand-cu12==10.3.2.106 in /home/yongmin/anaconda3/envs/NDE/lib/python3.12/site-packages (from torch>=1.10->benchpots) (10.3.2.106)\n",
      "Requirement already satisfied: nvidia-cusolver-cu12==11.4.5.107 in /home/yongmin/anaconda3/envs/NDE/lib/python3.12/site-packages (from torch>=1.10->benchpots) (11.4.5.107)\n",
      "Requirement already satisfied: nvidia-cusparse-cu12==12.1.0.106 in /home/yongmin/anaconda3/envs/NDE/lib/python3.12/site-packages (from torch>=1.10->benchpots) (12.1.0.106)\n",
      "Requirement already satisfied: nvidia-nccl-cu12==2.20.5 in /home/yongmin/anaconda3/envs/NDE/lib/python3.12/site-packages (from torch>=1.10->benchpots) (2.20.5)\n",
      "Requirement already satisfied: nvidia-nvtx-cu12==12.1.105 in /home/yongmin/anaconda3/envs/NDE/lib/python3.12/site-packages (from torch>=1.10->benchpots) (12.1.105)\n",
      "Requirement already satisfied: triton==3.0.0 in /home/yongmin/anaconda3/envs/NDE/lib/python3.12/site-packages (from torch>=1.10->benchpots) (3.0.0)\n",
      "Requirement already satisfied: nvidia-nvjitlink-cu12 in /home/yongmin/anaconda3/envs/NDE/lib/python3.12/site-packages (from nvidia-cusolver-cu12==11.4.5.107->torch>=1.10->benchpots) (12.1.105)\n",
      "Requirement already satisfied: tqdm in /home/yongmin/anaconda3/envs/NDE/lib/python3.12/site-packages (from tsdb>=0.6.1->benchpots) (4.66.5)\n",
      "Requirement already satisfied: scipy in /home/yongmin/anaconda3/envs/NDE/lib/python3.12/site-packages (from tsdb>=0.6.1->benchpots) (1.13.1)\n",
      "Requirement already satisfied: pyarrow in /home/yongmin/anaconda3/envs/NDE/lib/python3.12/site-packages (from tsdb>=0.6.1->benchpots) (17.0.0)\n",
      "Requirement already satisfied: requests in /home/yongmin/anaconda3/envs/NDE/lib/python3.12/site-packages (from tsdb>=0.6.1->benchpots) (2.32.3)\n",
      "Requirement already satisfied: python-dateutil>=2.8.2 in /home/yongmin/anaconda3/envs/NDE/lib/python3.12/site-packages (from pandas->benchpots) (2.9.0)\n",
      "Requirement already satisfied: pytz>=2020.1 in /home/yongmin/anaconda3/envs/NDE/lib/python3.12/site-packages (from pandas->benchpots) (2024.2)\n",
      "Requirement already satisfied: tzdata>=2022.7 in /home/yongmin/anaconda3/envs/NDE/lib/python3.12/site-packages (from pandas->benchpots) (2024.2)\n",
      "Requirement already satisfied: joblib>=1.2.0 in /home/yongmin/anaconda3/envs/NDE/lib/python3.12/site-packages (from scikit-learn->benchpots) (1.4.2)\n",
      "Requirement already satisfied: threadpoolctl>=3.1.0 in /home/yongmin/anaconda3/envs/NDE/lib/python3.12/site-packages (from scikit-learn->benchpots) (3.5.0)\n",
      "Requirement already satisfied: six>=1.5 in /home/yongmin/anaconda3/envs/NDE/lib/python3.12/site-packages (from python-dateutil>=2.8.2->pandas->benchpots) (1.16.0)\n",
      "Requirement already satisfied: MarkupSafe>=2.0 in /home/yongmin/anaconda3/envs/NDE/lib/python3.12/site-packages (from jinja2->torch>=1.10->benchpots) (2.1.5)\n",
      "Requirement already satisfied: charset-normalizer<4,>=2 in /home/yongmin/anaconda3/envs/NDE/lib/python3.12/site-packages (from requests->tsdb>=0.6.1->benchpots) (3.4.0)\n",
      "Requirement already satisfied: idna<4,>=2.5 in /home/yongmin/anaconda3/envs/NDE/lib/python3.12/site-packages (from requests->tsdb>=0.6.1->benchpots) (3.10)\n",
      "Requirement already satisfied: urllib3<3,>=1.21.1 in /home/yongmin/anaconda3/envs/NDE/lib/python3.12/site-packages (from requests->tsdb>=0.6.1->benchpots) (2.2.3)\n",
      "Requirement already satisfied: certifi>=2017.4.17 in /home/yongmin/anaconda3/envs/NDE/lib/python3.12/site-packages (from requests->tsdb>=0.6.1->benchpots) (2024.8.30)\n",
      "Requirement already satisfied: mpmath>=0.19 in /home/yongmin/anaconda3/envs/NDE/lib/python3.12/site-packages (from sympy->torch>=1.10->benchpots) (1.3.0)\n"
     ]
    }
   ],
   "source": [
    "!pip install benchpots"
   ]
  },
  {
   "cell_type": "code",
   "execution_count": 4,
   "metadata": {},
   "outputs": [],
   "source": [
    "import numpy as np\n",
    "from benchpots.datasets import preprocess_physionet2012"
   ]
  },
  {
   "cell_type": "code",
   "execution_count": 5,
   "metadata": {},
   "outputs": [
    {
     "name": "stderr",
     "output_type": "stream",
     "text": [
      "2024-10-25 16:40:51 [INFO]: You're using dataset physionet_2012, please cite it properly in your work. You can find its reference information at the below link: \n",
      "https://github.com/WenjieDu/TSDB/tree/main/dataset_profiles/physionet_2012\n",
      "2024-10-25 16:40:51 [INFO]: Dataset physionet_2012 has already been downloaded. Processing directly...\n",
      "2024-10-25 16:40:51 [INFO]: Dataset physionet_2012 has already been cached. Loading from cache directly...\n",
      "2024-10-25 16:40:51 [INFO]: Loaded successfully!\n",
      "2024-10-25 16:40:57 [WARNING]: rate is 0, no missing values are artificially added.\n",
      "2024-10-25 16:40:57 [INFO]: Total sample number: 3997\n",
      "2024-10-25 16:40:57 [INFO]: Training set size: 2557 (63.97%)\n",
      "2024-10-25 16:40:57 [INFO]: Validation set size: 640 (16.01%)\n",
      "2024-10-25 16:40:57 [INFO]: Test set size: 800 (20.02%)\n",
      "2024-10-25 16:40:57 [INFO]: Number of steps: 48\n",
      "2024-10-25 16:40:57 [INFO]: Number of features: 36\n",
      "2024-10-25 16:40:57 [INFO]: Train set missing rate: 79.62%\n",
      "2024-10-25 16:40:57 [INFO]: Validating set missing rate: 79.41%\n",
      "2024-10-25 16:40:57 [INFO]: Test set missing rate: 79.62%\n"
     ]
    }
   ],
   "source": [
    "features=['ALP', \n",
    "          'ALT', \n",
    "          'AST', \n",
    "          'Albumin',\n",
    "          'BUN',\n",
    "          'Bilirubin',\n",
    "          'Cholesterol',\n",
    "          'Creatinine',\n",
    "          'FiO2',\n",
    "          'GCS',\n",
    "          'Glucose',\n",
    "          'HCO3',\n",
    "          'HCT',\n",
    "          'HR', \n",
    "          'K', \n",
    "          'Lactate', \n",
    "          'Mg', \n",
    "          'Na', \n",
    "          'PaCO2', \n",
    "          'PaO2', \n",
    "          'Platelets', \n",
    "          'RespRate', \n",
    "          'SaO2', \n",
    "          'Temp', \n",
    "          'TroponinI', \n",
    "          'TroponinT', \n",
    "          'Urine', \n",
    "          'WBC', \n",
    "          'Weight', \n",
    "          'pH',\n",
    "\n",
    "          'NISysABP',\n",
    "          'SysABP',\n",
    "          'NIMAP',\n",
    "          'MAP',\n",
    "          'NIDiasABP',\n",
    "          'DiasABP',\n",
    "          ]\n",
    "data = preprocess_physionet2012('set-a', rate=0, features=features)\n",
    "\n",
    "for key in ['train_X', 'val_X', 'test_X']:\n",
    "    a, b = 35, 34\n",
    "    idx = np.array(np.isnan(data[key][:, :,a]))\n",
    "    data[key][:, :, a][idx] = data[key][:, :, b][idx]\n",
    "    a, b = 33, 32\n",
    "    idx = np.array(np.isnan(data[key][:, :,a]))\n",
    "    data[key][:, :, a][idx] = data[key][:, :, b][idx]\n",
    "    a, b = 31, 30\n",
    "    idx = np.array(np.isnan(data[key][:, :,a]))\n",
    "    data[key][:, :, a][idx] = data[key][:, :, b][idx]\n",
    "    data[key] = data[key][:, :, [u for u in range(36) if u not in [30, 32, 34]]]"
   ]
  },
  {
   "cell_type": "code",
   "execution_count": 6,
   "metadata": {},
   "outputs": [],
   "source": [
    "import torch\n",
    "from torch import nn\n",
    "import torch.nn.functional as F\n",
    "import torch.optim as optim\n",
    "from torch.utils.data import DataLoader, Subset, TensorDataset\n",
    "from sklearn.metrics import roc_auc_score\n",
    "\n",
    "class gruSimple(nn.Module):\n",
    "    def __init__(\n",
    "        self,\n",
    "        n_features = 33,\n",
    "        n_classes = 2,\n",
    "        rnn_hidden_size = 43,\n",
    "        num_layers = 1,\n",
    "    ):\n",
    "        super(gruSimple, self).__init__()\n",
    "        self.num_layers = num_layers\n",
    "        self.hidden_dim = rnn_hidden_size\n",
    "        self.gru = nn.GRU(n_features, rnn_hidden_size, num_layers, batch_first=True)\n",
    "        # Define the top regressor layer with batch normalization and dropout\n",
    "        self.fc = nn.Linear(rnn_hidden_size, n_classes)\n",
    "        self.batch_norm = nn.BatchNorm1d(n_classes)\n",
    "        self.dropout = nn.Dropout(0.5)\n",
    "    def forward(self, x):\n",
    "        # Initialize hidden state with zeros\n",
    "        h0 = torch.zeros(self.num_layers, x.size(0), self.hidden_dim).to(x.device)\n",
    "\n",
    "        # Forward propagate through GRU\n",
    "        out, _ = self.gru(x, h0)\n",
    "        # Get the last hidden state\n",
    "        last_hidden_state = out[:, -1, :]\n",
    "        out = self.fc(last_hidden_state)\n",
    "        out = self.batch_norm(out)\n",
    "        out = self.dropout(out)\n",
    "        out = F.softmax(out, dim=1)\n",
    "        return out"
   ]
  },
  {
   "cell_type": "code",
   "execution_count": 7,
   "metadata": {},
   "outputs": [],
   "source": [
    "# Early stopping parameters\n",
    "early_stopping_patience = 3  # Number of epochs to wait for improvement\n",
    "best_loss = float('inf')\n",
    "patience_counter = 0\n",
    "\n",
    "# Training function with early stopping\n",
    "def train(model, train_loader, val_loader, criterion, optimizer, num_epochs, device):\n",
    "    model.to(device)\n",
    "\n",
    "    global best_loss, patience_counter\n",
    "    model.train()  # Set the model to training mode\n",
    "    for epoch in range(num_epochs):\n",
    "        running_loss = 0.0\n",
    "        for _, (inputs, labels) in enumerate(train_loader):\n",
    "            inputs = inputs.to(device)\n",
    "            labels = labels.to(device)\n",
    "            # Zero the parameter gradients\n",
    "            optimizer.zero_grad()\n",
    "            \n",
    "            # Forward pass\n",
    "            outputs = model(torch.nan_to_num(inputs))\n",
    "\n",
    "            loss = criterion(outputs, labels)\n",
    "            \n",
    "            # Backward pass and optimize\n",
    "            loss.backward()\n",
    "            optimizer.step()\n",
    "            \n",
    "            running_loss += loss.item()\n",
    "\n",
    "        print(f'Epoch [{epoch+1}/{num_epochs}], Loss: {running_loss/10:.4f}')\n",
    "        running_loss = 0.0\n",
    "        \n",
    "        # Validation phase\n",
    "        model.eval()  # Set the model to evaluation mode\n",
    "        val_loss = 0.0\n",
    "        with torch.no_grad():\n",
    "            for inputs, labels in val_loader:\n",
    "                inputs = inputs.to(device)\n",
    "                labels = labels.to(device)\n",
    "                \n",
    "                outputs = model(torch.nan_to_num(inputs))\n",
    "                loss = criterion(outputs, labels)\n",
    "                val_loss += loss.item()\n",
    "        \n",
    "        val_loss /= len(val_loader)\n",
    "        print(f'Validation Loss after Epoch [{epoch+1}/{num_epochs}]: {val_loss:.4f}')\n",
    "        \n",
    "        # Early stopping check\n",
    "        if val_loss < best_loss:\n",
    "            best_loss = val_loss\n",
    "            patience_counter = 0\n",
    "        else:\n",
    "            patience_counter += 1\n",
    "            if patience_counter >= early_stopping_patience:\n",
    "                print(f'Early stopping at epoch {epoch+1}')\n",
    "                break\n",
    "        \n",
    "        model.train()  # Set back to training mode\n",
    "\n",
    "    print('Finished Training')\n",
    "\n",
    "def evaluate_model(val_loader, model, device):\n",
    "    model.to(device)\n",
    "    model.eval()\n",
    "    outputs = torch.tensor([]).to(device)\n",
    "    lab = torch.tensor([]).to(device)\n",
    "    with torch.no_grad():\n",
    "        for inputs, labels in val_loader:\n",
    "            inputs = inputs.to(device)\n",
    "            labels = labels.to(device)\n",
    "            output = model(torch.nan_to_num(inputs))\n",
    "            outputs = torch.concat([outputs, output])\n",
    "            lab = torch.concat([lab, labels])\n",
    "    return outputs, lab"
   ]
  },
  {
   "cell_type": "code",
   "execution_count": 8,
   "metadata": {},
   "outputs": [],
   "source": [
    "traindata = TensorDataset(torch.tensor(data['train_X'].astype(np.float32)), torch.tensor(data['train_y']))\n",
    "valdata = TensorDataset(torch.tensor(data['val_X'].astype(np.float32)), torch.tensor(data['val_y']))\n",
    "testdata = TensorDataset(torch.tensor(data['test_X'].astype(np.float32)), torch.tensor(data['test_y']))"
   ]
  },
  {
   "cell_type": "code",
   "execution_count": 9,
   "metadata": {},
   "outputs": [],
   "source": [
    "train_loader = DataLoader(traindata, batch_size=64)\n",
    "val_loader = DataLoader(valdata, batch_size=64)\n",
    "test_loader = DataLoader(testdata, batch_size=64)"
   ]
  },
  {
   "cell_type": "code",
   "execution_count": 10,
   "metadata": {},
   "outputs": [],
   "source": [
    "model = gruSimple(33, 2, 43)\n",
    "criterion = nn.CrossEntropyLoss()\n",
    "optimizer = optim.Adam(model.parameters(), lr=0.001)"
   ]
  },
  {
   "cell_type": "code",
   "execution_count": 11,
   "metadata": {},
   "outputs": [
    {
     "name": "stdout",
     "output_type": "stream",
     "text": [
      "cuda:0\n"
     ]
    }
   ],
   "source": [
    "device = torch.device(\"cuda:0\" if torch.cuda.is_available() else \"cpu\")\n",
    "print(device)"
   ]
  },
  {
   "cell_type": "code",
   "execution_count": 12,
   "metadata": {},
   "outputs": [
    {
     "name": "stdout",
     "output_type": "stream",
     "text": [
      "Epoch [1/50], Loss: 2.7717\n",
      "Validation Loss after Epoch [1/50]: 0.5995\n",
      "Epoch [2/50], Loss: 2.6119\n",
      "Validation Loss after Epoch [2/50]: 0.5734\n",
      "Epoch [3/50], Loss: 2.5207\n",
      "Validation Loss after Epoch [3/50]: 0.5749\n",
      "Epoch [4/50], Loss: 2.4919\n",
      "Validation Loss after Epoch [4/50]: 0.5487\n",
      "Epoch [5/50], Loss: 2.3979\n",
      "Validation Loss after Epoch [5/50]: 0.5309\n",
      "Epoch [6/50], Loss: 2.3307\n",
      "Validation Loss after Epoch [6/50]: 0.5379\n",
      "Epoch [7/50], Loss: 2.2985\n",
      "Validation Loss after Epoch [7/50]: 0.5320\n",
      "Epoch [8/50], Loss: 2.2739\n",
      "Validation Loss after Epoch [8/50]: 0.5501\n",
      "Early stopping at epoch 8\n",
      "Finished Training\n"
     ]
    }
   ],
   "source": [
    "# Train the model with early stopping\n",
    "num_epochs = 50\n",
    "train(model, train_loader, val_loader, criterion, optimizer, num_epochs, device)"
   ]
  },
  {
   "cell_type": "code",
   "execution_count": 13,
   "metadata": {},
   "outputs": [
    {
     "data": {
      "text/plain": [
       "0.7634579427032256"
      ]
     },
     "metadata": {},
     "output_type": "display_data"
    }
   ],
   "source": [
    "output, true = evaluate_model(test_loader, model, device)\n",
    "display(roc_auc_score(true.cpu(), output[:, 1].cpu()))"
   ]
  },
  {
   "cell_type": "code",
   "execution_count": null,
   "metadata": {},
   "outputs": [],
   "source": []
  }
 ],
 "metadata": {
  "kernelspec": {
   "display_name": "NDE",
   "language": "python",
   "name": "python3"
  },
  "language_info": {
   "codemirror_mode": {
    "name": "ipython",
    "version": 3
   },
   "file_extension": ".py",
   "mimetype": "text/x-python",
   "name": "python",
   "nbconvert_exporter": "python",
   "pygments_lexer": "ipython3",
   "version": "3.12.5"
  }
 },
 "nbformat": 4,
 "nbformat_minor": 2
}
