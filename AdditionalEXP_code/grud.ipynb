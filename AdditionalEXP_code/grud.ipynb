{
 "cells": [
  {
   "cell_type": "code",
   "execution_count": 1,
   "metadata": {},
   "outputs": [],
   "source": [
    "import numpy as np\n",
    "from ..GRUD.model import GRUD"
   ]
  },
  {
   "cell_type": "code",
   "execution_count": 2,
   "metadata": {},
   "outputs": [
    {
     "name": "stdout",
     "output_type": "stream",
     "text": [
      "Requirement already satisfied: benchpots in /home/yongmin/anaconda3/envs/NDE/lib/python3.12/site-packages (0.3)\n",
      "Requirement already satisfied: h5py in /home/yongmin/anaconda3/envs/NDE/lib/python3.12/site-packages (from benchpots) (3.12.1)\n",
      "Requirement already satisfied: numpy in /home/yongmin/anaconda3/envs/NDE/lib/python3.12/site-packages (from benchpots) (1.26.4)\n",
      "Requirement already satisfied: pandas in /home/yongmin/anaconda3/envs/NDE/lib/python3.12/site-packages (from benchpots) (2.2.3)\n",
      "Requirement already satisfied: scikit-learn in /home/yongmin/anaconda3/envs/NDE/lib/python3.12/site-packages (from benchpots) (1.5.2)\n",
      "Requirement already satisfied: torch>=1.10 in /home/yongmin/anaconda3/envs/NDE/lib/python3.12/site-packages (from benchpots) (2.4.1+cu121)\n",
      "Requirement already satisfied: tsdb>=0.6.1 in /home/yongmin/anaconda3/envs/NDE/lib/python3.12/site-packages (from benchpots) (0.6.2)\n",
      "Requirement already satisfied: pygrinder>=0.6.2 in /home/yongmin/anaconda3/envs/NDE/lib/python3.12/site-packages (from benchpots) (0.6.4)\n",
      "Requirement already satisfied: filelock in /home/yongmin/anaconda3/envs/NDE/lib/python3.12/site-packages (from torch>=1.10->benchpots) (3.13.1)\n",
      "Requirement already satisfied: typing-extensions>=4.8.0 in /home/yongmin/anaconda3/envs/NDE/lib/python3.12/site-packages (from torch>=1.10->benchpots) (4.12.2)\n",
      "Requirement already satisfied: sympy in /home/yongmin/anaconda3/envs/NDE/lib/python3.12/site-packages (from torch>=1.10->benchpots) (1.12)\n",
      "Requirement already satisfied: networkx in /home/yongmin/anaconda3/envs/NDE/lib/python3.12/site-packages (from torch>=1.10->benchpots) (3.2.1)\n",
      "Requirement already satisfied: jinja2 in /home/yongmin/anaconda3/envs/NDE/lib/python3.12/site-packages (from torch>=1.10->benchpots) (3.1.3)\n",
      "Requirement already satisfied: fsspec in /home/yongmin/anaconda3/envs/NDE/lib/python3.12/site-packages (from torch>=1.10->benchpots) (2024.2.0)\n",
      "Requirement already satisfied: setuptools in /home/yongmin/anaconda3/envs/NDE/lib/python3.12/site-packages (from torch>=1.10->benchpots) (75.1.0)\n",
      "Requirement already satisfied: nvidia-cuda-nvrtc-cu12==12.1.105 in /home/yongmin/anaconda3/envs/NDE/lib/python3.12/site-packages (from torch>=1.10->benchpots) (12.1.105)\n",
      "Requirement already satisfied: nvidia-cuda-runtime-cu12==12.1.105 in /home/yongmin/anaconda3/envs/NDE/lib/python3.12/site-packages (from torch>=1.10->benchpots) (12.1.105)\n",
      "Requirement already satisfied: nvidia-cuda-cupti-cu12==12.1.105 in /home/yongmin/anaconda3/envs/NDE/lib/python3.12/site-packages (from torch>=1.10->benchpots) (12.1.105)\n",
      "Requirement already satisfied: nvidia-cudnn-cu12==9.1.0.70 in /home/yongmin/anaconda3/envs/NDE/lib/python3.12/site-packages (from torch>=1.10->benchpots) (9.1.0.70)\n",
      "Requirement already satisfied: nvidia-cublas-cu12==12.1.3.1 in /home/yongmin/anaconda3/envs/NDE/lib/python3.12/site-packages (from torch>=1.10->benchpots) (12.1.3.1)\n",
      "Requirement already satisfied: nvidia-cufft-cu12==11.0.2.54 in /home/yongmin/anaconda3/envs/NDE/lib/python3.12/site-packages (from torch>=1.10->benchpots) (11.0.2.54)\n",
      "Requirement already satisfied: nvidia-curand-cu12==10.3.2.106 in /home/yongmin/anaconda3/envs/NDE/lib/python3.12/site-packages (from torch>=1.10->benchpots) (10.3.2.106)\n",
      "Requirement already satisfied: nvidia-cusolver-cu12==11.4.5.107 in /home/yongmin/anaconda3/envs/NDE/lib/python3.12/site-packages (from torch>=1.10->benchpots) (11.4.5.107)\n",
      "Requirement already satisfied: nvidia-cusparse-cu12==12.1.0.106 in /home/yongmin/anaconda3/envs/NDE/lib/python3.12/site-packages (from torch>=1.10->benchpots) (12.1.0.106)\n",
      "Requirement already satisfied: nvidia-nccl-cu12==2.20.5 in /home/yongmin/anaconda3/envs/NDE/lib/python3.12/site-packages (from torch>=1.10->benchpots) (2.20.5)\n",
      "Requirement already satisfied: nvidia-nvtx-cu12==12.1.105 in /home/yongmin/anaconda3/envs/NDE/lib/python3.12/site-packages (from torch>=1.10->benchpots) (12.1.105)\n",
      "Requirement already satisfied: triton==3.0.0 in /home/yongmin/anaconda3/envs/NDE/lib/python3.12/site-packages (from torch>=1.10->benchpots) (3.0.0)\n",
      "Requirement already satisfied: nvidia-nvjitlink-cu12 in /home/yongmin/anaconda3/envs/NDE/lib/python3.12/site-packages (from nvidia-cusolver-cu12==11.4.5.107->torch>=1.10->benchpots) (12.1.105)\n",
      "Requirement already satisfied: tqdm in /home/yongmin/anaconda3/envs/NDE/lib/python3.12/site-packages (from tsdb>=0.6.1->benchpots) (4.66.5)\n",
      "Requirement already satisfied: scipy in /home/yongmin/anaconda3/envs/NDE/lib/python3.12/site-packages (from tsdb>=0.6.1->benchpots) (1.13.1)\n",
      "Requirement already satisfied: pyarrow in /home/yongmin/anaconda3/envs/NDE/lib/python3.12/site-packages (from tsdb>=0.6.1->benchpots) (17.0.0)\n",
      "Requirement already satisfied: requests in /home/yongmin/anaconda3/envs/NDE/lib/python3.12/site-packages (from tsdb>=0.6.1->benchpots) (2.32.3)\n",
      "Requirement already satisfied: python-dateutil>=2.8.2 in /home/yongmin/anaconda3/envs/NDE/lib/python3.12/site-packages (from pandas->benchpots) (2.9.0)\n",
      "Requirement already satisfied: pytz>=2020.1 in /home/yongmin/anaconda3/envs/NDE/lib/python3.12/site-packages (from pandas->benchpots) (2024.2)\n",
      "Requirement already satisfied: tzdata>=2022.7 in /home/yongmin/anaconda3/envs/NDE/lib/python3.12/site-packages (from pandas->benchpots) (2024.2)\n",
      "Requirement already satisfied: joblib>=1.2.0 in /home/yongmin/anaconda3/envs/NDE/lib/python3.12/site-packages (from scikit-learn->benchpots) (1.4.2)\n",
      "Requirement already satisfied: threadpoolctl>=3.1.0 in /home/yongmin/anaconda3/envs/NDE/lib/python3.12/site-packages (from scikit-learn->benchpots) (3.5.0)\n",
      "Requirement already satisfied: six>=1.5 in /home/yongmin/anaconda3/envs/NDE/lib/python3.12/site-packages (from python-dateutil>=2.8.2->pandas->benchpots) (1.16.0)\n",
      "Requirement already satisfied: MarkupSafe>=2.0 in /home/yongmin/anaconda3/envs/NDE/lib/python3.12/site-packages (from jinja2->torch>=1.10->benchpots) (2.1.5)\n",
      "Requirement already satisfied: charset-normalizer<4,>=2 in /home/yongmin/anaconda3/envs/NDE/lib/python3.12/site-packages (from requests->tsdb>=0.6.1->benchpots) (3.4.0)\n",
      "Requirement already satisfied: idna<4,>=2.5 in /home/yongmin/anaconda3/envs/NDE/lib/python3.12/site-packages (from requests->tsdb>=0.6.1->benchpots) (3.10)\n",
      "Requirement already satisfied: urllib3<3,>=1.21.1 in /home/yongmin/anaconda3/envs/NDE/lib/python3.12/site-packages (from requests->tsdb>=0.6.1->benchpots) (2.2.3)\n",
      "Requirement already satisfied: certifi>=2017.4.17 in /home/yongmin/anaconda3/envs/NDE/lib/python3.12/site-packages (from requests->tsdb>=0.6.1->benchpots) (2024.8.30)\n",
      "Requirement already satisfied: mpmath>=0.19 in /home/yongmin/anaconda3/envs/NDE/lib/python3.12/site-packages (from sympy->torch>=1.10->benchpots) (1.3.0)\n"
     ]
    }
   ],
   "source": [
    "!pip install benchpots"
   ]
  },
  {
   "cell_type": "code",
   "execution_count": 3,
   "metadata": {},
   "outputs": [
    {
     "name": "stderr",
     "output_type": "stream",
     "text": [
      "2024-10-25 16:27:45 [INFO]: You're using dataset physionet_2012, please cite it properly in your work. You can find its reference information at the below link: \n",
      "https://github.com/WenjieDu/TSDB/tree/main/dataset_profiles/physionet_2012\n",
      "2024-10-25 16:27:45 [INFO]: Dataset physionet_2012 has already been downloaded. Processing directly...\n",
      "2024-10-25 16:27:45 [INFO]: Dataset physionet_2012 has already been cached. Loading from cache directly...\n"
     ]
    },
    {
     "name": "stderr",
     "output_type": "stream",
     "text": [
      "2024-10-25 16:27:46 [INFO]: Loaded successfully!\n",
      "2024-10-25 16:27:55 [WARNING]: rate is 0, no missing values are artificially added.\n",
      "2024-10-25 16:27:55 [INFO]: Total sample number: 3997\n",
      "2024-10-25 16:27:55 [INFO]: Training set size: 2557 (63.97%)\n",
      "2024-10-25 16:27:55 [INFO]: Validation set size: 640 (16.01%)\n",
      "2024-10-25 16:27:55 [INFO]: Test set size: 800 (20.02%)\n",
      "2024-10-25 16:27:55 [INFO]: Number of steps: 48\n",
      "2024-10-25 16:27:55 [INFO]: Number of features: 36\n",
      "2024-10-25 16:27:55 [INFO]: Train set missing rate: 79.50%\n",
      "2024-10-25 16:27:55 [INFO]: Validating set missing rate: 79.69%\n",
      "2024-10-25 16:27:55 [INFO]: Test set missing rate: 79.76%\n"
     ]
    }
   ],
   "source": [
    "from benchpots.datasets import preprocess_physionet2012\n",
    "features=['ALP', \n",
    "          'ALT', \n",
    "          'AST', \n",
    "          'Albumin',\n",
    "          'BUN',\n",
    "          'Bilirubin',\n",
    "          'Cholesterol',\n",
    "          'Creatinine',\n",
    "          'FiO2',\n",
    "          'GCS',\n",
    "          'Glucose',\n",
    "          'HCO3',\n",
    "          'HCT',\n",
    "          'HR', \n",
    "          'K', \n",
    "          'Lactate', \n",
    "          'Mg', \n",
    "          'Na', \n",
    "          'PaCO2', \n",
    "          'PaO2', \n",
    "          'Platelets', \n",
    "          'RespRate', \n",
    "          'SaO2', \n",
    "          'Temp', \n",
    "          'TroponinI', \n",
    "          'TroponinT', \n",
    "          'Urine', \n",
    "          'WBC', \n",
    "          'Weight', \n",
    "          'pH',\n",
    "\n",
    "          'NISysABP',\n",
    "          'SysABP',\n",
    "          'NIMAP',\n",
    "          'MAP',\n",
    "          'NIDiasABP',\n",
    "          'DiasABP',\n",
    "          ]\n",
    "data = preprocess_physionet2012('set-a', rate=0, features=features)"
   ]
  },
  {
   "cell_type": "code",
   "execution_count": 4,
   "metadata": {},
   "outputs": [],
   "source": [
    "for key in ['train_X', 'val_X', 'test_X']:\n",
    "    a, b = 35, 34\n",
    "    idx = np.array(np.isnan(data[key][:, :,a]))\n",
    "    data[key][:, :, a][idx] = data[key][:, :, b][idx]\n",
    "    a, b = 33, 32\n",
    "    idx = np.array(np.isnan(data[key][:, :,a]))\n",
    "    data[key][:, :, a][idx] = data[key][:, :, b][idx]\n",
    "    a, b = 31, 30\n",
    "    idx = np.array(np.isnan(data[key][:, :,a]))\n",
    "    data[key][:, :, a][idx] = data[key][:, :, b][idx]\n",
    "    data[key] = data[key][:, :, [u for u in range(36) if u not in [30, 32, 34]]]"
   ]
  },
  {
   "cell_type": "code",
   "execution_count": 5,
   "metadata": {},
   "outputs": [],
   "source": [
    "train_dataloader = {'X': data['train_X'], 'y': data['train_y']}\n",
    "val_dataloader = {'X': data['val_X'], 'y': data['val_y']}\n",
    "test_dataloader = {'X': data['test_X'], 'y': data['test_y']}"
   ]
  },
  {
   "cell_type": "code",
   "execution_count": 6,
   "metadata": {},
   "outputs": [
    {
     "name": "stderr",
     "output_type": "stream",
     "text": [
      "2024-10-25 16:27:55 [INFO]: Using the given device: cuda\n",
      "2024-10-25 16:27:55 [WARNING]: ‼️ saving_path not given. Model files and tensorboard file will not be saved.\n",
      "2024-10-25 16:28:15 [INFO]: Epoch 001 - training loss: 0.4322, validation loss: 0.3326\n",
      "2024-10-25 16:28:20 [INFO]: Epoch 002 - training loss: 0.3273, validation loss: 0.3199\n",
      "2024-10-25 16:28:25 [INFO]: Epoch 003 - training loss: 0.3079, validation loss: 0.3046\n",
      "2024-10-25 16:28:32 [INFO]: Epoch 004 - training loss: 0.2918, validation loss: 0.3064\n",
      "2024-10-25 16:28:38 [INFO]: Epoch 005 - training loss: 0.2730, validation loss: 0.3103\n",
      "2024-10-25 16:28:43 [INFO]: Epoch 006 - training loss: 0.2586, validation loss: 0.3248\n",
      "2024-10-25 16:28:43 [INFO]: Exceeded the training patience. Terminating the training procedure...\n",
      "2024-10-25 16:28:43 [INFO]: Finished training. The best model is from epoch#3.\n"
     ]
    }
   ],
   "source": [
    "model = GRUD(n_steps=48, n_features=33, n_classes=2, rnn_hidden_size=49, batch_size=64, epochs=50, patience=3, device='cuda')\n",
    "model.fit(train_dataloader, val_dataloader)  # train the model on the dataset\n",
    "pred = model.predict(test_dataloader)"
   ]
  },
  {
   "cell_type": "code",
   "execution_count": 7,
   "metadata": {},
   "outputs": [],
   "source": [
    "cls = model.classify(test_dataloader)"
   ]
  },
  {
   "cell_type": "code",
   "execution_count": 8,
   "metadata": {},
   "outputs": [
    {
     "data": {
      "text/plain": [
       "array([[0.8627367 , 0.13726331],\n",
       "       [0.21163161, 0.7883684 ],\n",
       "       [0.88555366, 0.11444639],\n",
       "       ...,\n",
       "       [0.97379714, 0.02620286],\n",
       "       [0.9750063 , 0.02499372],\n",
       "       [0.99417675, 0.00582324]], dtype=float32)"
      ]
     },
     "execution_count": 8,
     "metadata": {},
     "output_type": "execute_result"
    }
   ],
   "source": [
    "cls"
   ]
  },
  {
   "cell_type": "code",
   "execution_count": 9,
   "metadata": {},
   "outputs": [
    {
     "data": {
      "text/plain": [
       "0.8009518952915179"
      ]
     },
     "metadata": {},
     "output_type": "display_data"
    }
   ],
   "source": [
    "from sklearn.metrics import roc_auc_score\n",
    "display(roc_auc_score(data['test_y'], cls[:, 1]))"
   ]
  },
  {
   "cell_type": "code",
   "execution_count": null,
   "metadata": {},
   "outputs": [],
   "source": []
  }
 ],
 "metadata": {
  "kernelspec": {
   "display_name": "NDE",
   "language": "python",
   "name": "python3"
  },
  "language_info": {
   "codemirror_mode": {
    "name": "ipython",
    "version": 3
   },
   "file_extension": ".py",
   "mimetype": "text/x-python",
   "name": "python",
   "nbconvert_exporter": "python",
   "pygments_lexer": "ipython3",
   "version": "3.12.5"
  }
 },
 "nbformat": 4,
 "nbformat_minor": 2
}
