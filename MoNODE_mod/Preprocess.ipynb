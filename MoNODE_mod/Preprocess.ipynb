{
 "cells": [
  {
   "cell_type": "markdown",
   "metadata": {},
   "source": [
    "##### Due to the possibility of information of data leaks, all outputs are cleared. \n",
    "\n",
    "Feature names are not cleared because they are commonly used AIS data feature name."
   ]
  },
  {
   "cell_type": "code",
   "execution_count": null,
   "metadata": {},
   "outputs": [],
   "source": [
    "import pandas as pd\n",
    "import numpy as np\n",
    "import os"
   ]
  },
  {
   "cell_type": "markdown",
   "metadata": {},
   "source": [
    "Dataset feature explanation:\n",
    "\n",
    "mmsi: unique code for each ship\n",
    "\n",
    "positionsourcedate: time of the measurement\n",
    "\n",
    "latitude: latitude\n",
    "\n",
    "longitude: longitude\n",
    "\n",
    "navstatuscode: voyage status\n",
    "\n",
    "To build trajectory data from the dataset, mmsi, positionsourcedate, latitude, longitude are used."
   ]
  },
  {
   "cell_type": "markdown",
   "metadata": {},
   "source": [
    "##### Load dataset (non-public data is used, so I cannot give data)"
   ]
  },
  {
   "cell_type": "code",
   "execution_count": null,
   "metadata": {},
   "outputs": [],
   "source": [
    "df = pd.DataFrame()\n",
    "for i in os.listdir(\"AIS\"):\n",
    "    temp = pd.read_excel(f\"AIS/{i}\")\n",
    "    df = pd.concat([df, temp])"
   ]
  },
  {
   "cell_type": "code",
   "execution_count": null,
   "metadata": {},
   "outputs": [],
   "source": [
    "df = df[[\"mmsi\", \"longitude\", \"latitude\", \"positionsourcedate\", 'navstatuscode']]\n",
    "df = df.sort_values(['mmsi', 'positionsourcedate'])"
   ]
  },
  {
   "cell_type": "code",
   "execution_count": null,
   "metadata": {},
   "outputs": [],
   "source": [
    "df['positionsourcedate'] = pd.to_datetime(df['positionsourcedate'])\n",
    "\n",
    "# only use year 2023\n",
    "df = df[df['positionsourcedate'].dt.year == 2023]"
   ]
  },
  {
   "cell_type": "code",
   "execution_count": null,
   "metadata": {},
   "outputs": [],
   "source": [
    "# only use Jan\n",
    "df[df['positionsourcedate'].dt.month.isin([1])]\n",
    "# change positionsourcedate to hour\n",
    "df[\"hours\"] = ((df['positionsourcedate'].dt.days_in_month + df[\"positionsourcedate\"].dt.day) * 24 + df[\"positionsourcedate\"].dt.hour)"
   ]
  },
  {
   "cell_type": "code",
   "execution_count": null,
   "metadata": {},
   "outputs": [],
   "source": [
    "# when there is more than one measurement in an hour, use first one\n",
    "df = df.drop_duplicates(subset=['mmsi', 'hours'])"
   ]
  },
  {
   "cell_type": "markdown",
   "metadata": {},
   "source": [
    "devide data into each observation\n",
    "\n",
    "observation: a voyage of one ship\n",
    "\n",
    "use navi code, devide the data (use code that means ship is not moving)"
   ]
  },
  {
   "cell_type": "code",
   "execution_count": null,
   "metadata": {},
   "outputs": [],
   "source": [
    "df = df.sort_values(by=[\"mmsi\", \"positionsourcedate\"], inplace=True)"
   ]
  },
  {
   "cell_type": "code",
   "execution_count": null,
   "metadata": {},
   "outputs": [],
   "source": [
    "df.columns"
   ]
  },
  {
   "cell_type": "code",
   "execution_count": null,
   "metadata": {},
   "outputs": [],
   "source": [
    "# distinguish voyage of ship\n",
    "ids = df['mmsi'].unique()\n",
    "res = []\n",
    "count = 0\n",
    "for i in range(len(df.index)-1):\n",
    "    # check mmsi is same\n",
    "    if df.iloc[i, 0] == df.iloc[i+1, 0]:\n",
    "        # check navstatuscode to distinguish voyages by using at port status\n",
    "        if df.iloc[i, 4] in [1, 5, 15]:\n",
    "            res.append(False)\n",
    "            count += 1\n",
    "        else:\n",
    "            res.append(f\"{df.iloc[i, 0]}_{count}\")\n",
    "    else:\n",
    "        count = 0\n",
    "        res.append(f\"{df.iloc[i, 0]}_{count}\")\n",
    "res.append(f\"{df.iloc[-1, 0]}_{count}\")\n",
    "\n",
    "df['voyage'] = res\n",
    "df = df[df['voyage'] != False]"
   ]
  },
  {
   "cell_type": "code",
   "execution_count": null,
   "metadata": {},
   "outputs": [],
   "source": [
    "vid, num = np.unique(df['voyage'], return_counts=True)"
   ]
  },
  {
   "cell_type": "code",
   "execution_count": null,
   "metadata": {},
   "outputs": [],
   "source": [
    "# use data sample with more than 50 time points\n",
    "T = 50\n",
    "vid = vid[num >= T]\n",
    "df = df[df['voyage'].isin(vid)]"
   ]
  },
  {
   "cell_type": "code",
   "execution_count": null,
   "metadata": {},
   "outputs": [],
   "source": [
    "len(vid)"
   ]
  },
  {
   "cell_type": "code",
   "execution_count": null,
   "metadata": {},
   "outputs": [],
   "source": [
    "df = df[['voyage', 'longitude', 'latitude', 'hours']]"
   ]
  },
  {
   "cell_type": "code",
   "execution_count": null,
   "metadata": {},
   "outputs": [],
   "source": [
    "# refine starting point to 0\n",
    "df = df.sort_values(['voyage', 'hours'])\n",
    "whole = pd.DataFrame()\n",
    "for i in vid:\n",
    "    temp = df[df['voyage'] == i]\n",
    "    base = temp.iloc[0, 3]\n",
    "    temp.loc[:, 'hours'] = temp.loc[:, 'hours'] - base\n",
    "    whole = pd.concat([whole, temp])"
   ]
  },
  {
   "cell_type": "code",
   "execution_count": null,
   "metadata": {},
   "outputs": [],
   "source": [
    "df1 = whole\n",
    "df1"
   ]
  },
  {
   "cell_type": "code",
   "execution_count": null,
   "metadata": {},
   "outputs": [],
   "source": [
    "# remove sample contains missing time points\n",
    "cont = []\n",
    "ll = []\n",
    "for i in vid:\n",
    "    count = 0\n",
    "    num = 0\n",
    "    temp = df1[df1['voyage'] == i]\n",
    "    for h in range(len(temp)):\n",
    "        if temp.iloc[h, 3] - count > 1:\n",
    "            num = 0\n",
    "        else:\n",
    "            count = temp.iloc[h, 3]\n",
    "            num += 1\n",
    "            if num == T:\n",
    "                ll.append(h-T+1)\n",
    "                cont.append(i)"
   ]
  },
  {
   "cell_type": "code",
   "execution_count": null,
   "metadata": {},
   "outputs": [],
   "source": [
    "len(cont)"
   ]
  },
  {
   "cell_type": "code",
   "execution_count": null,
   "metadata": {},
   "outputs": [],
   "source": [
    "df = df[df['voyage'].isin(cont)]"
   ]
  },
  {
   "cell_type": "code",
   "execution_count": null,
   "metadata": {},
   "outputs": [],
   "source": [
    "whole = pd.DataFrame()\n",
    "for k, i in enumerate(cont):\n",
    "    temp = df[df['voyage'].isin([i])]\n",
    "    temp = temp.iloc[ll[k]:ll[k]+T, :]\n",
    "    whole = pd.concat([whole, temp])"
   ]
  },
  {
   "cell_type": "code",
   "execution_count": null,
   "metadata": {},
   "outputs": [],
   "source": [
    "whole"
   ]
  },
  {
   "cell_type": "code",
   "execution_count": null,
   "metadata": {},
   "outputs": [],
   "source": [
    "# refine starting point to 0\n",
    "whole_ = pd.DataFrame()\n",
    "for i in cont:\n",
    "    temp = whole[whole['voyage'] == i]\n",
    "    base = temp.iloc[0, 3]\n",
    "    temp.loc[:, 'hours'] = temp.loc[:, 'hours'] - base\n",
    "    whole_ = pd.concat([whole_, temp])"
   ]
  },
  {
   "cell_type": "code",
   "execution_count": null,
   "metadata": {},
   "outputs": [],
   "source": [
    "# save dataset\n",
    "import pickle\n",
    "with open(\"AIS/data.pickle\", 'wb') as f:\n",
    "    pickle.dump(whole_, f)\n"
   ]
  },
  {
   "cell_type": "code",
   "execution_count": null,
   "metadata": {},
   "outputs": [],
   "source": []
  }
 ],
 "metadata": {
  "kernelspec": {
   "display_name": "NDE",
   "language": "python",
   "name": "python3"
  },
  "language_info": {
   "codemirror_mode": {
    "name": "ipython",
    "version": 3
   },
   "file_extension": ".py",
   "mimetype": "text/x-python",
   "name": "python",
   "nbconvert_exporter": "python",
   "pygments_lexer": "ipython3",
   "version": "3.12.5"
  }
 },
 "nbformat": 4,
 "nbformat_minor": 2
}
