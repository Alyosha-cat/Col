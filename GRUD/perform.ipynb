{
 "cells": [
  {
   "cell_type": "code",
   "execution_count": null,
   "metadata": {},
   "outputs": [],
   "source": [
    "import numpy as np\n",
    "from model import GRUD"
   ]
  },
  {
   "cell_type": "code",
   "execution_count": null,
   "metadata": {},
   "outputs": [],
   "source": [
    "# install library to use physionet 2012 data which is processed\n",
    "!pip install benchpots"
   ]
  },
  {
   "cell_type": "code",
   "execution_count": 1,
   "metadata": {},
   "outputs": [
    {
     "name": "stderr",
     "output_type": "stream",
     "text": [
      "2024-10-18 17:07:21 [INFO]: You're using dataset physionet_2012, please cite it properly in your work. You can find its reference information at the below link: \n",
      "https://github.com/WenjieDu/TSDB/tree/main/dataset_profiles/physionet_2012\n",
      "2024-10-18 17:07:21 [INFO]: Dataset physionet_2012 has already been downloaded. Processing directly...\n",
      "2024-10-18 17:07:21 [INFO]: Dataset physionet_2012 has already been cached. Loading from cache directly...\n",
      "2024-10-18 17:07:21 [INFO]: Loaded successfully!\n",
      "2024-10-18 17:07:26 [WARNING]: rate is 0, no missing values are artificially added.\n",
      "2024-10-18 17:07:26 [INFO]: Total sample number: 3997\n",
      "2024-10-18 17:07:26 [INFO]: Training set size: 2557 (63.97%)\n",
      "2024-10-18 17:07:26 [INFO]: Validation set size: 640 (16.01%)\n",
      "2024-10-18 17:07:26 [INFO]: Test set size: 800 (20.02%)\n",
      "2024-10-18 17:07:26 [INFO]: Number of steps: 48\n",
      "2024-10-18 17:07:26 [INFO]: Number of features: 37\n",
      "2024-10-18 17:07:26 [INFO]: Train set missing rate: 79.73%\n",
      "2024-10-18 17:07:26 [INFO]: Validating set missing rate: 79.82%\n",
      "2024-10-18 17:07:26 [INFO]: Test set missing rate: 79.62%\n"
     ]
    }
   ],
   "source": [
    "from benchpots.datasets import preprocess_physionet2012\n",
    "# use set-a data which were used in paper\n",
    "data = preprocess_physionet2012('set-a', rate=0)"
   ]
  },
  {
   "cell_type": "code",
   "execution_count": 6,
   "metadata": {},
   "outputs": [],
   "source": [
    "train_dataloader = {'X': data['train_X'], 'y': data['train_y']}\n",
    "val_dataloader = {'X': data['val_X'], 'y': data['val_y']}\n",
    "test_dataloader = {'X': data['test_X'], 'y': data['test_y']}"
   ]
  },
  {
   "cell_type": "code",
   "execution_count": null,
   "metadata": {},
   "outputs": [],
   "source": [
    "# cannot know which features were used in paper, thus, used all features. "
   ]
  },
  {
   "cell_type": "code",
   "execution_count": 9,
   "metadata": {},
   "outputs": [
    {
     "name": "stderr",
     "output_type": "stream",
     "text": [
      "2024-10-18 17:11:33 [INFO]: Using the given device: cuda\n",
      "2024-10-18 17:11:33 [WARNING]: ‼️ saving_path not given. Model files and tensorboard file will not be saved.\n",
      "2024-10-18 17:11:33 [INFO]: GRUD initialized with the given hyperparameters, the number of trainable parameters: 16,128\n",
      "2024-10-18 17:11:38 [INFO]: Epoch 001 - training loss: 0.4694, validation loss: 0.3712\n",
      "2024-10-18 17:11:41 [INFO]: Epoch 002 - training loss: 0.3406, validation loss: 0.3492\n",
      "2024-10-18 17:11:44 [INFO]: Epoch 003 - training loss: 0.3155, validation loss: 0.3411\n",
      "2024-10-18 17:11:47 [INFO]: Epoch 004 - training loss: 0.2985, validation loss: 0.3356\n",
      "2024-10-18 17:11:49 [INFO]: Epoch 005 - training loss: 0.2886, validation loss: 0.3288\n",
      "2024-10-18 17:11:52 [INFO]: Epoch 006 - training loss: 0.2756, validation loss: 0.3283\n",
      "2024-10-18 17:11:54 [INFO]: Epoch 007 - training loss: 0.2634, validation loss: 0.3344\n",
      "2024-10-18 17:11:57 [INFO]: Epoch 008 - training loss: 0.2570, validation loss: 0.3258\n",
      "2024-10-18 17:12:00 [INFO]: Epoch 009 - training loss: 0.2453, validation loss: 0.3299\n",
      "2024-10-18 17:12:03 [INFO]: Epoch 010 - training loss: 0.2400, validation loss: 0.3319\n",
      "2024-10-18 17:12:06 [INFO]: Epoch 011 - training loss: 0.2229, validation loss: 0.3428\n",
      "2024-10-18 17:12:09 [INFO]: Epoch 012 - training loss: 0.2100, validation loss: 0.3471\n",
      "2024-10-18 17:12:12 [INFO]: Epoch 013 - training loss: 0.2002, validation loss: 0.3562\n",
      "2024-10-18 17:12:15 [INFO]: Epoch 014 - training loss: 0.1891, validation loss: 0.3697\n",
      "2024-10-18 17:12:18 [INFO]: Epoch 015 - training loss: 0.1803, validation loss: 0.3931\n",
      "2024-10-18 17:12:21 [INFO]: Epoch 016 - training loss: 0.1635, validation loss: 0.3893\n",
      "2024-10-18 17:12:24 [INFO]: Epoch 017 - training loss: 0.1584, validation loss: 0.4136\n",
      "2024-10-18 17:12:27 [INFO]: Epoch 018 - training loss: 0.1548, validation loss: 0.4028\n",
      "2024-10-18 17:12:30 [INFO]: Epoch 019 - training loss: 0.1471, validation loss: 0.4113\n",
      "2024-10-18 17:12:33 [INFO]: Epoch 020 - training loss: 0.1343, validation loss: 0.4482\n",
      "2024-10-18 17:12:36 [INFO]: Epoch 021 - training loss: 0.1196, validation loss: 0.4475\n",
      "2024-10-18 17:12:38 [INFO]: Epoch 022 - training loss: 0.1166, validation loss: 0.4706\n",
      "2024-10-18 17:12:41 [INFO]: Epoch 023 - training loss: 0.1010, validation loss: 0.4673\n",
      "2024-10-18 17:12:44 [INFO]: Epoch 024 - training loss: 0.0852, validation loss: 0.5428\n",
      "2024-10-18 17:12:47 [INFO]: Epoch 025 - training loss: 0.0838, validation loss: 0.5530\n",
      "2024-10-18 17:12:50 [INFO]: Epoch 026 - training loss: 0.0951, validation loss: 0.5368\n",
      "2024-10-18 17:12:53 [INFO]: Epoch 027 - training loss: 0.0733, validation loss: 0.5519\n",
      "2024-10-18 17:12:56 [INFO]: Epoch 028 - training loss: 0.0557, validation loss: 0.5760\n",
      "2024-10-18 17:12:56 [INFO]: Exceeded the training patience. Terminating the training procedure...\n",
      "2024-10-18 17:12:56 [INFO]: Finished training. The best model is from epoch#8.\n"
     ]
    }
   ],
   "source": [
    "# use model defined from py file\n",
    "model = GRUD(n_steps=48, n_features=37, n_classes=2, rnn_hidden_size=32, batch_size=64, epochs=10000, patience=20, device='cuda')\n",
    "model.fit(train_dataloader, val_dataloader)  # train the model on the dataset\n",
    "pred = model.predict(test_dataloader)"
   ]
  },
  {
   "cell_type": "code",
   "execution_count": 14,
   "metadata": {},
   "outputs": [],
   "source": [
    "cls = model.classify(test_dataloader)"
   ]
  },
  {
   "cell_type": "code",
   "execution_count": 15,
   "metadata": {},
   "outputs": [
    {
     "data": {
      "text/plain": [
       "array([[9.9998868e-01, 1.1331392e-05],\n",
       "       [9.9630177e-01, 3.6982007e-03],\n",
       "       [9.8183882e-01, 1.8161235e-02],\n",
       "       ...,\n",
       "       [9.3461430e-01, 6.5385684e-02],\n",
       "       [9.9677855e-01, 3.2214369e-03],\n",
       "       [8.7104893e-01, 1.2895110e-01]], dtype=float32)"
      ]
     },
     "execution_count": 15,
     "metadata": {},
     "output_type": "execute_result"
    }
   ],
   "source": [
    "cls"
   ]
  },
  {
   "cell_type": "code",
   "execution_count": 20,
   "metadata": {},
   "outputs": [
    {
     "data": {
      "text/plain": [
       "0.7969377214660233"
      ]
     },
     "metadata": {},
     "output_type": "display_data"
    }
   ],
   "source": [
    "# get roc_auc_score\n",
    "from sklearn.metrics import roc_auc_score\n",
    "display(roc_auc_score(data['test_y'], cls[:, 1]))"
   ]
  },
  {
   "cell_type": "markdown",
   "metadata": {},
   "source": [
    "The loaded data has label about mortality. And in the paper with mortality task, its roc_auc_score were like below. It was about 0.825. \n",
    "\n",
    "And code reproducing resulted in 0.7969 which is slightly lower than 0.825, but their difference is not that huge."
   ]
  },
  {
   "attachments": {
    "image.png": {
     "image/png": "[encoded data removed]"
    }
   },
   "cell_type": "markdown",
   "metadata": {},
   "source": [
    "![image.png](attachment:image.png)"
   ]
  },
  {
   "cell_type": "code",
   "execution_count": null,
   "metadata": {},
   "outputs": [],
   "source": []
  }
 ],
 "metadata": {
  "kernelspec": {
   "display_name": "NDE",
   "language": "python",
   "name": "python3"
  },
  "language_info": {
   "codemirror_mode": {
    "name": "ipython",
    "version": 3
   },
   "file_extension": ".py",
   "mimetype": "text/x-python",
   "name": "python",
   "nbconvert_exporter": "python",
   "pygments_lexer": "ipython3",
   "version": "3.12.5"
  }
 },
 "nbformat": 4,
 "nbformat_minor": 2
}
